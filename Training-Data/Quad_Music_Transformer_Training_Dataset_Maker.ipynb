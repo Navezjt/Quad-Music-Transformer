{
  "cells": [
    {
      "cell_type": "markdown",
      "metadata": {
        "gradient": {
          "editing": false,
          "id": "ac5a4cf0-d9d2-47b5-9633-b53f8d99a4d2",
          "kernelId": ""
        },
        "id": "SiTIpPjArIyr"
      },
      "source": [
        "# Quad Music Transformer Training Dataset Maker (ver. 1.0)\n",
        "\n",
        "***\n",
        "\n",
        "Powered by tegridy-tools: https://github.com/asigalov61/tegridy-tools\n",
        "\n",
        "***\n",
        "\n",
        "#### Project Los Angeles\n",
        "\n",
        "#### Tegridy Code 2024\n",
        "\n",
        "***"
      ]
    },
    {
      "cell_type": "markdown",
      "metadata": {
        "gradient": {
          "editing": false,
          "id": "fa0a611c-1803-42ae-bdf6-a49b5a4e781b",
          "kernelId": ""
        },
        "id": "gOd93yV0sGd2"
      },
      "source": [
        "# (SETUP ENVIRONMENT)"
      ]
    },
    {
      "cell_type": "code",
      "execution_count": null,
      "metadata": {
        "cellView": "form",
        "gradient": {
          "editing": false,
          "id": "a1a45a91-d909-4fd4-b67a-5e16b971d179",
          "kernelId": ""
        },
        "id": "fX12Yquyuihc"
      },
      "outputs": [],
      "source": [
        "#@title Install all dependencies (run only once per session)\n",
        "\n",
        "!git clone https://github.com/asigalov61/tegridy-tools"
      ]
    },
    {
      "cell_type": "code",
      "execution_count": null,
      "metadata": {
        "cellView": "form",
        "gradient": {
          "editing": false,
          "id": "b8207b76-9514-4c07-95db-95a4742e52c5",
          "kernelId": ""
        },
        "id": "z7n9vnKmug1J"
      },
      "outputs": [],
      "source": [
        "#@title Import all needed modules\n",
        "\n",
        "print('Loading needed modules. Please wait...')\n",
        "import os\n",
        "import copy\n",
        "import math\n",
        "import statistics\n",
        "import random\n",
        "\n",
        "from joblib import Parallel, delayed, parallel_config\n",
        "\n",
        "from tqdm import tqdm\n",
        "\n",
        "if not os.path.exists('/content/Dataset'):\n",
        "    os.makedirs('/content/Dataset')\n",
        "\n",
        "print('Loading TMIDIX module...')\n",
        "os.chdir('/content/tegridy-tools/tegridy-tools')\n",
        "\n",
        "import TMIDIX\n",
        "\n",
        "print('Done!')\n",
        "\n",
        "os.chdir('/content/')\n",
        "print('Enjoy! :)')"
      ]
    },
    {
      "cell_type": "markdown",
      "metadata": {
        "gradient": {
          "editing": false,
          "id": "20b8698a-0b4e-4fdb-ae49-24d063782e77",
          "kernelId": ""
        },
        "id": "ObPxlEutsQBj"
      },
      "source": [
        "# (DOWNLOAD SOURCE MIDI DATASET)"
      ]
    },
    {
      "cell_type": "code",
      "source": [
        "#@title Download Monster MIDI Subset\n",
        "\n",
        "%cd /content/Dataset/\n",
        "\n",
        "!wget 'https://huggingface.co/datasets/projectlosangeles/Monster-MIDI-Dataset/resolve/main/Monster_MIDI_Dataset_Search_Results_Ver_1_0_CC_BY_NC_SA.zip'\n",
        "!unzip Monster_MIDI_Dataset_Search_Results_Ver_1_0_CC_BY_NC_SA.zip\n",
        "!rm Monster_MIDI_Dataset_Search_Results_Ver_1_0_CC_BY_NC_SA.zip\n",
        "\n",
        "%cd /content/"
      ],
      "metadata": {
        "cellView": "form",
        "id": "7aItlhq9cRxZ"
      },
      "execution_count": null,
      "outputs": []
    },
    {
      "cell_type": "code",
      "execution_count": null,
      "metadata": {
        "cellView": "form",
        "id": "S69mWHAcn5Bg"
      },
      "outputs": [],
      "source": [
        "#@title Mount Google Drive\n",
        "from google.colab import drive\n",
        "drive.mount('/content/drive')"
      ]
    },
    {
      "cell_type": "markdown",
      "metadata": {
        "id": "JwrqQeie08t0"
      },
      "source": [
        "# (FILE LIST)"
      ]
    },
    {
      "cell_type": "code",
      "execution_count": null,
      "metadata": {
        "cellView": "form",
        "id": "DuVWtdDNcqKh"
      },
      "outputs": [],
      "source": [
        "#@title Save file list\n",
        "###########\n",
        "\n",
        "print('Loading MIDI files...')\n",
        "print('This may take a while on a large dataset in particular.')\n",
        "\n",
        "dataset_addr = \"/content/Dataset\"\n",
        "# os.chdir(dataset_addr)\n",
        "filez = list()\n",
        "for (dirpath, dirnames, filenames) in os.walk(dataset_addr):\n",
        "    filez += [os.path.join(dirpath, file) for file in filenames]\n",
        "print('=' * 70)\n",
        "\n",
        "if filez == []:\n",
        "    print('Could not find any MIDI files. Please check Dataset dir...')\n",
        "    print('=' * 70)\n",
        "\n",
        "print('Randomizing file list...')\n",
        "random.shuffle(filez)\n",
        "\n",
        "TMIDIX.Tegridy_Any_Pickle_File_Writer(filez, '/content/drive/MyDrive/filez')"
      ]
    },
    {
      "cell_type": "code",
      "execution_count": null,
      "metadata": {
        "cellView": "form",
        "id": "qI_adhjojrJ9"
      },
      "outputs": [],
      "source": [
        "#@title Load file list\n",
        "filez = TMIDIX.Tegridy_Any_Pickle_File_Reader('/content/drive/MyDrive/filez')\n",
        "print('Done!')"
      ]
    },
    {
      "cell_type": "markdown",
      "source": [
        "# (LOAD TMIDIX MIDI PROCESSOR)"
      ],
      "metadata": {
        "id": "xJWEVeeP5WzW"
      }
    },
    {
      "cell_type": "code",
      "source": [
        "# @title TMIDIX MIDI Processor\n",
        "\n",
        "def TMIDIX_MIDI_Processor(midi_file):\n",
        "\n",
        "    try:\n",
        "\n",
        "        fn = os.path.basename(midi_file)\n",
        "\n",
        "        #=======================================================\n",
        "        # START PROCESSING\n",
        "\n",
        "        #===============================================================================\n",
        "        # Raw single-track ms score\n",
        "\n",
        "        raw_score = TMIDIX.midi2single_track_ms_score(midi_file)\n",
        "\n",
        "        #===============================================================================\n",
        "        # Enhanced score notes\n",
        "\n",
        "        escore_notes = TMIDIX.advanced_score_processor(raw_score, return_enhanced_score_notes=True)[0]\n",
        "\n",
        "        if len(escore_notes) > 0:\n",
        "\n",
        "            #=======================================================\n",
        "            # PRE-PROCESSING\n",
        "\n",
        "            # checking number of instruments in a composition\n",
        "            instruments_list = list(set([y[3] for y in escore_notes]))\n",
        "\n",
        "            #===============================================================================\n",
        "            # Augmented enhanced score notes\n",
        "\n",
        "            escore_notes = TMIDIX.augment_enhanced_score_notes(escore_notes)\n",
        "\n",
        "            #=======================================================\n",
        "            # Augmentation\n",
        "\n",
        "            all_melody_chords = []\n",
        "\n",
        "            for ta in range(0, 4, 2):\n",
        "                for pa in range(-1, 2):\n",
        "\n",
        "                    #=======================================================\n",
        "                    # FINAL PROCESSING\n",
        "\n",
        "                    melody_chords = []\n",
        "\n",
        "                    # Break between compositions / Intro seq\n",
        "\n",
        "                    if 9 in instruments_list:\n",
        "                        drums_present = 2450 # Yes\n",
        "                    else:\n",
        "                        drums_present = 2449 # No\n",
        "\n",
        "                    if escore_notes[0][3] != 9:\n",
        "                        fpat = escore_notes[0][6]\n",
        "                        fptc = escore_notes[0][4]+pa\n",
        "                    else:\n",
        "                        fpat = 128\n",
        "                        fptc = escore_notes[0][4]\n",
        "\n",
        "                    fchan = fpat // 8\n",
        "\n",
        "                    melody_chords.extend([2595, drums_present, 2450+fchan, 2467+fptc]) # Intro seq + zero time\n",
        "\n",
        "                    #=======================================================\n",
        "                    # MAIN PROCESSING CYCLE\n",
        "                    #=======================================================\n",
        "\n",
        "                    pe = escore_notes[0]\n",
        "\n",
        "                    chords_counter = 1\n",
        "\n",
        "                    comp_chords_len = len(list(set([y[1] for y in escore_notes])))\n",
        "\n",
        "                    for e in escore_notes:\n",
        "\n",
        "                        #=======================================================\n",
        "                        # Timings...\n",
        "\n",
        "                        if (e[1] - pe[1]) != 0:\n",
        "                            time = (e[1]-pe[1])+ta\n",
        "                        else:\n",
        "                            time = 0\n",
        "\n",
        "                        dur = e[2]+ta\n",
        "\n",
        "                        if time != 0 and time % 2 != 0:\n",
        "                            time += 1\n",
        "                        if dur % 2 != 0:\n",
        "                            dur += 1\n",
        "\n",
        "                        delta_time = int(max(0, min(255, time)) / 2)\n",
        "\n",
        "                        # Durations and channels\n",
        "\n",
        "                        dur = int(max(0, min(255, dur)) / 2)\n",
        "\n",
        "                        cha = max(0, min(15, e[3]))\n",
        "\n",
        "                        # Patches\n",
        "                        if cha == 9: # Drums patch will be == 128\n",
        "                            pat = 128\n",
        "\n",
        "                        else:\n",
        "                            pat = e[6]\n",
        "\n",
        "                        # Channels\n",
        "\n",
        "                        chan = pat // 8\n",
        "\n",
        "                        # Pitches\n",
        "\n",
        "                        if cha != 9:\n",
        "                            ptc = max(1, min(127, e[4]+pa))\n",
        "                        else:\n",
        "                            ptc = max(1, min(127, e[4]))\n",
        "\n",
        "                        # Velocities\n",
        "\n",
        "                        # Calculating octo-velocity\n",
        "                        velocity = max(8, min(127, e[5]))\n",
        "                        vel = round(velocity / 8)-1\n",
        "\n",
        "                        #=======================================================\n",
        "                        # Outro seq\n",
        "\n",
        "                        if comp_chords_len >= 250:\n",
        "                            if ((comp_chords_len - chords_counter) == 50) and (delta_time != 0):\n",
        "                                melody_chords.extend([2448, 2448, 2448, 2448]) # outro seq\n",
        "\n",
        "                        if delta_time != 0:\n",
        "                            chords_counter += 1\n",
        "\n",
        "                        #=======================================================\n",
        "                        # FINAL NOTE SEQ\n",
        "\n",
        "                        # Writing final note asynchronously\n",
        "\n",
        "                        cha_ptc = (128 * chan) + ptc\n",
        "\n",
        "                        melody_chords.extend([delta_time, dur+128, cha_ptc+256, vel+2432])\n",
        "\n",
        "                        pe = e\n",
        "\n",
        "                        if len(melody_chords) > 8192:\n",
        "                            break\n",
        "\n",
        "                        #=======================================================\n",
        "\n",
        "                    melody_chords.extend([2596]) # EOS\n",
        "\n",
        "                    #=======================================================\n",
        "\n",
        "                    # TOTAL DICTIONARY SIZE 2596+1=2597\n",
        "                    #=======================================================\n",
        "\n",
        "                    all_melody_chords.append(melody_chords[:8193])\n",
        "\n",
        "            return all_melody_chords\n",
        "\n",
        "        else:\n",
        "            return None\n",
        "\n",
        "    except Exception as e:\n",
        "        print('=' * 70)\n",
        "        print(midi_file)\n",
        "        print(e)\n",
        "        print('=' * 70)\n",
        "        return None"
      ],
      "metadata": {
        "cellView": "form",
        "id": "brC9ZC7_5Wab"
      },
      "execution_count": null,
      "outputs": []
    },
    {
      "cell_type": "markdown",
      "metadata": {
        "id": "FLxHvO-wlwfU"
      },
      "source": [
        "# (PROCESS)"
      ]
    },
    {
      "cell_type": "code",
      "source": [
        "#@title Process MIDIs with TMIDIX MIDI processor\n",
        "\n",
        "NUMBER_OF_PARALLEL_JOBS = 16 # Number of parallel jobs\n",
        "NUMBER_OF_FILES_PER_ITERATION = 16 # Number of files to queue for each parallel iteration\n",
        "SAVE_EVERY_NUMBER_OF_ITERATIONS = 160 # Save every 2560 files\n",
        "\n",
        "print('=' * 70)\n",
        "print('TMIDIX MIDI Processor')\n",
        "print('=' * 70)\n",
        "print('Starting up...')\n",
        "print('=' * 70)\n",
        "\n",
        "###########\n",
        "\n",
        "melody_chords_f = []\n",
        "\n",
        "files_count = 0\n",
        "\n",
        "print('Processing MIDI files. Please wait...')\n",
        "print('=' * 70)\n",
        "\n",
        "for i in tqdm(range(0, len(filez), NUMBER_OF_FILES_PER_ITERATION)):\n",
        "\n",
        "  with parallel_config(backend='threading', n_jobs=NUMBER_OF_PARALLEL_JOBS, verbose = 0):\n",
        "\n",
        "    output = Parallel(n_jobs=NUMBER_OF_PARALLEL_JOBS, verbose=0)(delayed(TMIDIX_MIDI_Processor)(f) for f in filez[i:i+NUMBER_OF_FILES_PER_ITERATION])\n",
        "\n",
        "    for o in output:\n",
        "\n",
        "        if o is not None:\n",
        "            melody_chords_f.append(o)\n",
        "\n",
        "    files_count += len(melody_chords_f)\n",
        "\n",
        "    # Saving every 2560 processed files\n",
        "    if i % (NUMBER_OF_FILES_PER_ITERATION * SAVE_EVERY_NUMBER_OF_ITERATIONS) == 0 and i != 0:\n",
        "        print('SAVING !!!')\n",
        "        print('=' * 70)\n",
        "        print('Saving processed files...')\n",
        "        print('=' * 70)\n",
        "        print('Data check:', min(melody_chords_f[0][0]), '===', max(melody_chords_f[0][0]), '===', len(list(set(melody_chords_f[0][0]))), '===', len(melody_chords_f[0][0]))\n",
        "        print('=' * 70)\n",
        "        print('Processed so far:', files_count, 'out of', len(filez), '===', files_count / len(filez), 'good files ratio')\n",
        "        print('=' * 70)\n",
        "        count = str(files_count)\n",
        "        TMIDIX.Tegridy_Any_Pickle_File_Writer(melody_chords_f, '/content/drive/MyDrive/QUAD_INTs_'+count)\n",
        "        melody_chords_f = []\n",
        "\n",
        "        print('=' * 70)\n",
        "\n",
        "print('SAVING !!!')\n",
        "print('=' * 70)\n",
        "print('Saving processed files...')\n",
        "print('=' * 70)\n",
        "print('Data check:', min(melody_chords_f[0][0]), '===', max(melody_chords_f[0][0]), '===', len(list(set(melody_chords_f[0][0]))), '===', len(melody_chords_f[0][0]))\n",
        "print('=' * 70)\n",
        "print('Processed so far:', files_count, 'out of', len(filez), '===', files_count / len(filez), 'good files ratio')\n",
        "print('=' * 70)\n",
        "count = str(files_count)\n",
        "TMIDIX.Tegridy_Any_Pickle_File_Writer(melody_chords_f, '/content/drive/MyDrive/QUAD_INTs_'+count)\n",
        "\n",
        "print('=' * 70)"
      ],
      "metadata": {
        "cellView": "form",
        "id": "lvaxDmV9504y"
      },
      "execution_count": null,
      "outputs": []
    },
    {
      "cell_type": "markdown",
      "metadata": {
        "id": "-ye9rNzOHX90"
      },
      "source": [
        "# (TEST INTS)"
      ]
    },
    {
      "cell_type": "code",
      "execution_count": null,
      "metadata": {
        "cellView": "form",
        "id": "zppMJ8gA3L4K"
      },
      "outputs": [],
      "source": [
        "#@title Test INTs\n",
        "\n",
        "train_data1 = random.choice(melody_chords_f)[0]\n",
        "\n",
        "print('Sample INTs', train_data1[:15])\n",
        "\n",
        "out = train_data1\n",
        "\n",
        "if len(out) != 0:\n",
        "\n",
        "    song = out\n",
        "    song_f = []\n",
        "\n",
        "    time = 0\n",
        "    dur = 0\n",
        "    vel = 90\n",
        "    pitch = 0\n",
        "    channel = 0\n",
        "\n",
        "    output_MIDI_patches = \"0, 10, 19, 24, 35, 40, 52, 56, 65, 73, 87, 89, 98, 105, 117, 123\" # @param {type:\"string\"}\n",
        "\n",
        "    patches = [int(p) if 0 <= int(p) < 128 else 0 for p in output_MIDI_patches.split(',')]\n",
        "\n",
        "    for ss in song:\n",
        "\n",
        "        if 0 <= ss < 128:\n",
        "\n",
        "            time += ss\n",
        "\n",
        "        if 128 <= ss < 256:\n",
        "\n",
        "            dur = (ss-128)\n",
        "\n",
        "        if 256 <= ss < 2432:\n",
        "\n",
        "            chan = (ss-256) // 128\n",
        "\n",
        "            if chan < 9:\n",
        "                channel = chan\n",
        "            elif 9 < chan < 15:\n",
        "                channel = chan+1\n",
        "            elif chan == 15:\n",
        "                channel = 15\n",
        "            elif chan == 16:\n",
        "                channel = 9\n",
        "\n",
        "            pitch = (ss-256) % 128\n",
        "\n",
        "        if 2432 <= ss < 2448:\n",
        "\n",
        "            vel = (((ss-2432)+1) * 8)-1\n",
        "\n",
        "            song_f.append(['note', time, dur, channel, pitch, vel ])\n",
        "\n",
        "detailed_stats = TMIDIX.Tegridy_ms_SONG_to_MIDI_Converter(song_f,\n",
        "                                                        output_signature = 'Quad Music Transformer',\n",
        "                                                        output_file_name = '/content/Quad-Music-Transformer-Composition',\n",
        "                                                        track_name='Project Los Angeles',\n",
        "                                                        list_of_MIDI_patches=patches,\n",
        "                                                        timings_multiplier=32\n",
        "                                                        )\n",
        "\n",
        "print('Done!')"
      ]
    },
    {
      "cell_type": "markdown",
      "metadata": {
        "id": "YzCMd94Tu_gz"
      },
      "source": [
        "# Congrats! You did it! :)"
      ]
    }
  ],
  "metadata": {
    "colab": {
      "private_outputs": true,
      "provenance": []
    },
    "kernelspec": {
      "display_name": "Python 3",
      "name": "python3"
    },
    "language_info": {
      "codemirror_mode": {
        "name": "ipython",
        "version": 3
      },
      "file_extension": ".py",
      "mimetype": "text/x-python",
      "name": "python",
      "nbconvert_exporter": "python",
      "pygments_lexer": "ipython3",
      "version": "3.9.7"
    }
  },
  "nbformat": 4,
  "nbformat_minor": 0
}